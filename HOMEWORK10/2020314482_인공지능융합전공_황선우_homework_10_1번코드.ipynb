{
  "nbformat": 4,
  "nbformat_minor": 0,
  "metadata": {
    "colab": {
      "name": "2020314482_인공지능융합전공_황선우_homework#10_1번코드.ipynb",
      "provenance": [],
      "collapsed_sections": []
    },
    "kernelspec": {
      "name": "python3",
      "display_name": "Python 3"
    },
    "language_info": {
      "name": "python"
    }
  },
  "cells": [
    {
      "cell_type": "markdown",
      "source": [
        "\n",
        "1. 아래와 같은 RNN이 있을 때, 질문에 답하시오. RNN에서 h의 activation function은 tanh이고, o의 activation function은 sigmoid이다. h, o, x 는 scalar이고, h0 = 0 이고, START token 값도 0이다."
      ],
      "metadata": {
        "id": "PhnH_dOuTVk-"
      }
    },
    {
      "cell_type": "code",
      "execution_count": null,
      "metadata": {
        "colab": {
          "base_uri": "https://localhost:8080/"
        },
        "id": "_qIhLdEE17UK",
        "outputId": "be880636-bf4e-4251-9edc-c5393f934dc2"
      },
      "outputs": [
        {
          "output_type": "stream",
          "name": "stdout",
          "text": [
            "o1 = tensor([0.3183])\n",
            "o2 = tensor([0.6343])\n",
            "o3 = tensor([0.3498])\n"
          ]
        }
      ],
      "source": [
        "import torch\n",
        "import torch.nn as nn\n",
        "\n",
        "tanh = nn.Tanh()\n",
        "sigmoid = nn.Sigmoid()\n",
        "\n",
        "#a. x1 = 1, x2 = −1, x3 = 1 이다. RNN을 synched many to many로 사용할 때 출력, o1,o2,o3를 구하시오.\n",
        "#synched many to many\n",
        "X = [1,-1,1]\n",
        "h = torch.FloatTensor([0])\n",
        "for i,x in enumerate(X):\n",
        "  h = tanh(0.5*h + (-1)*x)\n",
        "  o = sigmoid(h)\n",
        "  print(f\"o{i+1} = {o}\")"
      ]
    },
    {
      "cell_type": "code",
      "source": [
        "#b. x1 = 1, x2 = −1, x3 = 1 이다. RNN을 many to one로 사용할 때 출력 o를 구하시오.\n",
        "#many to one\n",
        "X = [1,-1,1]\n",
        "h = torch.FloatTensor([0])\n",
        "for i,x in enumerate(X):\n",
        "  h = tanh(0.5*h + (-1)*x)\n",
        "  if i == len(X)-1:\n",
        "    print(f\"o = {sigmoid(h)}\")"
      ],
      "metadata": {
        "colab": {
          "base_uri": "https://localhost:8080/"
        },
        "id": "z5UqaQkpdffX",
        "outputId": "9fdad1e9-bd4b-475b-878e-7c6b707630f7"
      },
      "execution_count": null,
      "outputs": [
        {
          "output_type": "stream",
          "name": "stdout",
          "text": [
            "o = tensor([0.3498])\n"
          ]
        }
      ]
    },
    {
      "cell_type": "code",
      "source": [
        "#c. x1 = 1 이다. RNN을 one to many로 사용할 때 출력, o1,o2,o3를 구하시오.\n",
        "#one to many\n",
        "X = 1\n",
        "h = torch.FloatTensor([0])\n",
        "for i in range(3):\n",
        "  h = tanh(0.5*h + (-1)*X)\n",
        "  X = sigmoid(h)\n",
        "  print(f\"o{i+1} = {X}\")"
      ],
      "metadata": {
        "colab": {
          "base_uri": "https://localhost:8080/"
        },
        "id": "W8l9Zc50eXjT",
        "outputId": "abb6ffb1-929f-4868-a7e8-033b178e1f0d"
      },
      "execution_count": null,
      "outputs": [
        {
          "output_type": "stream",
          "name": "stdout",
          "text": [
            "o1 = tensor([0.3183])\n",
            "o2 = tensor([0.3535])\n",
            "o3 = tensor([0.3600])\n"
          ]
        }
      ]
    },
    {
      "cell_type": "code",
      "source": [
        "#d. x1 = 1, x2 = −1, x3 = 1 이다. RNN을 many to many로 사용할 때 출력, o1,o2,o3를 구하시오.\n",
        "#many to many\n",
        "X = [1,-1,1]\n",
        "s = 0\n",
        "h = torch.FloatTensor([0])\n",
        "for x in X:\n",
        "  h = tanh(0.5*h + (-1)*x)\n",
        "\n",
        "x = s\n",
        "for i in range(3):\n",
        "  h = tanh(0.5*h + (-1)*x)\n",
        "  x = sigmoid(h)\n",
        "  print(f\"o{i+1} = {x}\")"
      ],
      "metadata": {
        "colab": {
          "base_uri": "https://localhost:8080/"
        },
        "id": "oPDlT-8shSq7",
        "outputId": "a0cdef08-9576-40f3-9c3e-1f04b383bcb7"
      },
      "execution_count": null,
      "outputs": [
        {
          "output_type": "stream",
          "name": "stdout",
          "text": [
            "o1 = tensor([0.4255])\n",
            "o2 = tensor([0.3730])\n",
            "o3 = tensor([0.3636])\n"
          ]
        }
      ]
    }
  ]
}