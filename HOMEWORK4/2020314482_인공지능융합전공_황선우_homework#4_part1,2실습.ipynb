{
  "nbformat": 4,
  "nbformat_minor": 0,
  "metadata": {
    "colab": {
      "name": "2020314482_인공지능융합전공_황선우_homework#4_part1,2실습.ipynb",
      "provenance": [],
      "collapsed_sections": []
    },
    "kernelspec": {
      "name": "python3",
      "display_name": "Python 3"
    },
    "language_info": {
      "name": "python"
    }
  },
  "cells": [
    {
      "cell_type": "markdown",
      "source": [
        "##PART1"
      ],
      "metadata": {
        "id": "4K68eGPc8s4o"
      }
    },
    {
      "cell_type": "code",
      "execution_count": null,
      "metadata": {
        "colab": {
          "base_uri": "https://localhost:8080/"
        },
        "id": "27zrWLSq3j5-",
        "outputId": "f8e7dfb9-d4b6-472b-a4a3-3e9114ecf395"
      },
      "outputs": [
        {
          "output_type": "execute_result",
          "data": {
            "text/plain": [
              "list"
            ]
          },
          "metadata": {},
          "execution_count": 70
        }
      ],
      "source": [
        "list1 = [1, 2, 3]\n",
        "\n",
        "#인덱스가 음수일 경우 리스트의 끝에서부터 셈\n",
        "type(list1)"
      ]
    },
    {
      "cell_type": "code",
      "source": [
        "#0번 인덱스와 제일 마지막 인덱스의 값을 튜플로 반환\n",
        "list1[0], list1[-1] "
      ],
      "metadata": {
        "colab": {
          "base_uri": "https://localhost:8080/"
        },
        "id": "o4lkk-QH4IN9",
        "outputId": "4e866506-fe25-4a45-e2eb-419f00c5c911"
      },
      "execution_count": null,
      "outputs": [
        {
          "output_type": "execute_result",
          "data": {
            "text/plain": [
              "(1, 3)"
            ]
          },
          "metadata": {},
          "execution_count": 71
        }
      ]
    },
    {
      "cell_type": "code",
      "source": [
        "#리스트는 자료형이 다른 요소도 저장 가능\n",
        "list1[1] = \"str1\"\n",
        "list1"
      ],
      "metadata": {
        "colab": {
          "base_uri": "https://localhost:8080/"
        },
        "id": "8f2ui83735Xf",
        "outputId": "d7c113c4-55e9-4f60-9595-86af355e0f43"
      },
      "execution_count": null,
      "outputs": [
        {
          "output_type": "execute_result",
          "data": {
            "text/plain": [
              "[1, 'str1', 3]"
            ]
          },
          "metadata": {},
          "execution_count": 72
        }
      ]
    },
    {
      "cell_type": "code",
      "source": [
        "#range Type출력\n",
        "list2 = range(10)\n",
        "type(list2)"
      ],
      "metadata": {
        "colab": {
          "base_uri": "https://localhost:8080/"
        },
        "id": "u9XVDx3738O7",
        "outputId": "d5b34751-4dfa-4e10-a630-3b909be86bad"
      },
      "execution_count": null,
      "outputs": [
        {
          "output_type": "execute_result",
          "data": {
            "text/plain": [
              "range"
            ]
          },
          "metadata": {},
          "execution_count": 73
        }
      ]
    },
    {
      "cell_type": "code",
      "source": [
        "#List Type으로 변환\n",
        "list2 = list(list2) \n",
        "type(list2)"
      ],
      "metadata": {
        "colab": {
          "base_uri": "https://localhost:8080/"
        },
        "id": "nwKL8U823-my",
        "outputId": "575d8446-42b1-4fc2-ce8d-126daf88b22f"
      },
      "execution_count": null,
      "outputs": [
        {
          "output_type": "execute_result",
          "data": {
            "text/plain": [
              "list"
            ]
          },
          "metadata": {},
          "execution_count": 74
        }
      ]
    },
    {
      "cell_type": "code",
      "source": [
        "list2"
      ],
      "metadata": {
        "colab": {
          "base_uri": "https://localhost:8080/"
        },
        "id": "i0XOcI_44nbR",
        "outputId": "7628c97d-c02b-4afd-c038-0254182d0bb5"
      },
      "execution_count": null,
      "outputs": [
        {
          "output_type": "execute_result",
          "data": {
            "text/plain": [
              "[0, 1, 2, 3, 4, 5, 6, 7, 8, 9]"
            ]
          },
          "metadata": {},
          "execution_count": 75
        }
      ]
    },
    {
      "cell_type": "code",
      "source": [
        "# 인덱스 2에서 4(제외)까지 슬라이싱\n",
        "a = list2[2:4]\n",
        "print(f\"list2[2:4] 결과: {a} => 인덱스 2~3까지만 출력\")\n",
        "\n",
        "# 인덱스 2에서 끝까지 슬라이싱\n",
        "a = list2[2:]\n",
        "print(f\"list2[2:] 결과: {a} => 인덱스 2~끝까지 출력\")\n",
        "\n",
        "# 처음부터 인덱스 2(제외)까지 슬라이싱\n",
        "a = list2[:2]\n",
        "print(f\"list2[:2] 결과: {a} => 인덱스 시작~1까지만 출력\")\n",
        "\n",
        "# 전체 리스트 슬라이싱\n",
        "a = list2[:]\n",
        "print(f\"list2[:] 결과: {a} => 리스트 전체 출력\")\n",
        "\n",
        "# 2씩 증가하면서 리스트 출력\n",
        "a = list2[::2]\n",
        "print(f\"list2[::2] 결과: {a} => 인덱스 0부터 2씩 증가하면서 리스트 출력\")\n",
        "\n",
        "# 슬라이싱 인덱스는 음수도 가능\n",
        "a = list2[:-1]\n",
        "print(f\"list2[:-1] 결과: {a} => 인덱스 시작~마지막에서 2번째까지 출력\")\n",
        "\n",
        "# 슬라이스된 리스트에 새로운 리스트 할당\n",
        "list2[2:4] = [8, 9]\n",
        "print(f\"list2 결과: {list2} => 인덱스 2~3의 값이 [8,9]로 대체되어 출력\")\n",
        "\n",
        "# 결과를 예측해 보시오\n",
        "list2[2:5] = [8, 9]\n",
        "print(f\"list2 결과: {list2} => 인덱스 2~4의 값이 [8,9]로 대체되어 출력\")"
      ],
      "metadata": {
        "colab": {
          "base_uri": "https://localhost:8080/"
        },
        "id": "2oZYBvYB5H14",
        "outputId": "c51d23cb-2a4a-43f6-c7cc-416cbf98a6ae"
      },
      "execution_count": null,
      "outputs": [
        {
          "output_type": "stream",
          "name": "stdout",
          "text": [
            "list2[2:4] 결과: [2, 3] => 인덱스 2~3까지만 출력\n",
            "list2[2:] 결과: [2, 3, 4, 5, 6, 7, 8, 9] => 인덱스 2~끝까지 출력\n",
            "list2[:2] 결과: [0, 1] => 인덱스 시작~1까지만 출력\n",
            "list2[:] 결과: [0, 1, 2, 3, 4, 5, 6, 7, 8, 9] => 리스트 전체 출력\n",
            "list2[::2] 결과: [0, 2, 4, 6, 8] => 인덱스 0부터 2씩 증가하면서 리스트 출력\n",
            "list2[:-1] 결과: [0, 1, 2, 3, 4, 5, 6, 7, 8] => 인덱스 시작~마지막에서 2번째까지 출력\n",
            "list2 결과: [0, 1, 8, 9, 4, 5, 6, 7, 8, 9] => 인덱스 2~3의 값이 [8,9]로 대체되어 출력\n",
            "list2 결과: [0, 1, 8, 9, 5, 6, 7, 8, 9] => 인덱스 2~4의 값이 [8,9]로 대체되어 출력\n"
          ]
        }
      ]
    },
    {
      "cell_type": "code",
      "source": [
        "# List는 순서를 갖기 때문에 for loop 시 index 0 부터 순서대로 접근\n",
        "animals = ['cat', 'dog', 'monkey']\n",
        "# 실행 결과를 확인하시오\n",
        "for animal in animals:\n",
        "  print(animal)"
      ],
      "metadata": {
        "colab": {
          "base_uri": "https://localhost:8080/"
        },
        "id": "7D1SgLyX5LSF",
        "outputId": "d69d5857-a1d2-4870-c392-d6474b59b48f"
      },
      "execution_count": null,
      "outputs": [
        {
          "output_type": "stream",
          "name": "stdout",
          "text": [
            "cat\n",
            "dog\n",
            "monkey\n"
          ]
        }
      ]
    },
    {
      "cell_type": "code",
      "source": [
        "nums = [0, 1, 2, 3, 4]\n",
        "squares = []\n",
        "\n",
        "# 실행 결과를 확인하시오\n",
        "for x in nums:\n",
        "  squares.append(x ** 2)\n",
        "  print(squares)"
      ],
      "metadata": {
        "colab": {
          "base_uri": "https://localhost:8080/"
        },
        "id": "SBOWg1xI8ORc",
        "outputId": "d4ba7014-5667-4eac-c7eb-9aafaaaba733"
      },
      "execution_count": null,
      "outputs": [
        {
          "output_type": "stream",
          "name": "stdout",
          "text": [
            "[0]\n",
            "[0, 1]\n",
            "[0, 1, 4]\n",
            "[0, 1, 4, 9]\n",
            "[0, 1, 4, 9, 16]\n"
          ]
        }
      ]
    },
    {
      "cell_type": "code",
      "source": [
        "def sign(x):\n",
        "  if x > 0: #x가 양수면 positive 반환\n",
        "    return 'positive'\n",
        "  elif x < 0: #x가 음수면 negative 반환\n",
        "    return 'negative'\n",
        "  else: #x가 양수 또는 음수가 아니면 zero 반환\n",
        "    return 'zero'\n",
        "\n",
        "# 실행 결과를 확인하시오.\n",
        "for x in [-1, 0, 1]:\n",
        "  print(sign(x))"
      ],
      "metadata": {
        "colab": {
          "base_uri": "https://localhost:8080/"
        },
        "id": "tQZjLzcl83LO",
        "outputId": "c1504417-17e7-4e1d-d7e4-f9045877e4a9"
      },
      "execution_count": null,
      "outputs": [
        {
          "output_type": "stream",
          "name": "stdout",
          "text": [
            "negative\n",
            "zero\n",
            "positive\n"
          ]
        }
      ]
    },
    {
      "cell_type": "code",
      "source": [
        "def hello(name, loud=False):\n",
        "  if loud:  #loud가 True면 전체 대문자로 인사출력\n",
        "    print ('HELLO, %s!' % name.upper())\n",
        "  else: #loud가 False면 첫 글자만 대문자로 인사출력\n",
        "    print ('Hello, %s' % name)\n",
        "\n",
        "# 실행 결과를 확인하시오\n",
        "hello('Bob')\n",
        "\n",
        "# 실행 결과를 확인하시오\n",
        "hello('Fred', loud=True)"
      ],
      "metadata": {
        "colab": {
          "base_uri": "https://localhost:8080/"
        },
        "id": "WxSQOub69d7q",
        "outputId": "6386ce52-4351-4d0c-df24-68c7c3a40717"
      },
      "execution_count": null,
      "outputs": [
        {
          "output_type": "stream",
          "name": "stdout",
          "text": [
            "Hello, Bob\n",
            "HELLO, FRED!\n"
          ]
        }
      ]
    },
    {
      "cell_type": "code",
      "source": [
        "#zip() 함수를 이용하면 두 개의 리스트나 터플 부터 쉽게 사전(dictionary)을 만들 수 있습니다. \n",
        "#키를 담고 있는 리스트와 값을 담고 있는 리스트를 zip() 함수에 넘긴 후, \n",
        "#그 결과를 다시 dict() 함수에 넘기면 됩니다.\n",
        "\n",
        "keys = [1, 2, 3]\n",
        "values = [\"A\", \"B\", \"C\"]\n",
        "dict(zip(keys, values))"
      ],
      "metadata": {
        "colab": {
          "base_uri": "https://localhost:8080/"
        },
        "id": "vuy5duFiDnlQ",
        "outputId": "8d04cd4b-9e66-4c5f-f280-3a6d7f1d50dd"
      },
      "execution_count": null,
      "outputs": [
        {
          "output_type": "execute_result",
          "data": {
            "text/plain": [
              "{1: 'A', 2: 'B', 3: 'C'}"
            ]
          },
          "metadata": {},
          "execution_count": 81
        }
      ]
    },
    {
      "cell_type": "code",
      "source": [
        "# 1 4 7 / 2 5 8 / 3 6 9 출력\n",
        "#각 리스트(순회가능한 객체)의 원소들을 순차적으로 튜플로 반환\n",
        "for x, y, z in zip([1, 2, 3], [4, 5, 6], [7, 8, 9]):\n",
        "  print(x, y, z)"
      ],
      "metadata": {
        "colab": {
          "base_uri": "https://localhost:8080/"
        },
        "id": "LZKJ0Fhg-OoM",
        "outputId": "76e21fa4-f8ff-427c-a5fe-21f061a2515a"
      },
      "execution_count": null,
      "outputs": [
        {
          "output_type": "stream",
          "name": "stdout",
          "text": [
            "1 4 7\n",
            "2 5 8\n",
            "3 6 9\n"
          ]
        }
      ]
    },
    {
      "cell_type": "code",
      "source": [
        "# 에러가 나는 이유는 ?\n",
        "#zip(): 동일한 개수로 이루어진 반복 가능(iterable)한 자료형을 묶어 주는 역할을 하는 함수\n",
        "#함수 내에 3개의 자료형이 있으므로 변수 역시 3개가 되어야 에러가 나지 않는다.\n",
        "for x, y in zip([1, 2, 3], [4, 5, 6], [7, 8, 9]):\n",
        "  print(x, y, z)"
      ],
      "metadata": {
        "colab": {
          "base_uri": "https://localhost:8080/",
          "height": 228
        },
        "id": "QnHkJ3Nv-TA-",
        "outputId": "63ed796d-e76d-4933-ef49-0cb849bcfd6c"
      },
      "execution_count": null,
      "outputs": [
        {
          "output_type": "error",
          "ename": "ValueError",
          "evalue": "ignored",
          "traceback": [
            "\u001b[0;31m---------------------------------------------------------------------------\u001b[0m",
            "\u001b[0;31mValueError\u001b[0m                                Traceback (most recent call last)",
            "\u001b[0;32m<ipython-input-83-d7f2424fb504>\u001b[0m in \u001b[0;36m<module>\u001b[0;34m()\u001b[0m\n\u001b[1;32m      2\u001b[0m \u001b[0;31m#zip(): 동일한 개수로 이루어진 반복 가능(iterable)한 자료형을 묶어 주는 역할을 하는 함수\u001b[0m\u001b[0;34m\u001b[0m\u001b[0;34m\u001b[0m\u001b[0;34m\u001b[0m\u001b[0m\n\u001b[1;32m      3\u001b[0m \u001b[0;31m#함수 내에 3개의 자료형이 있으므로 변수 역시 3개가 되어야 에러가 나지 않는다.\u001b[0m\u001b[0;34m\u001b[0m\u001b[0;34m\u001b[0m\u001b[0;34m\u001b[0m\u001b[0m\n\u001b[0;32m----> 4\u001b[0;31m \u001b[0;32mfor\u001b[0m \u001b[0mx\u001b[0m\u001b[0;34m,\u001b[0m \u001b[0my\u001b[0m \u001b[0;32min\u001b[0m \u001b[0mzip\u001b[0m\u001b[0;34m(\u001b[0m\u001b[0;34m[\u001b[0m\u001b[0;36m1\u001b[0m\u001b[0;34m,\u001b[0m \u001b[0;36m2\u001b[0m\u001b[0;34m,\u001b[0m \u001b[0;36m3\u001b[0m\u001b[0;34m]\u001b[0m\u001b[0;34m,\u001b[0m \u001b[0;34m[\u001b[0m\u001b[0;36m4\u001b[0m\u001b[0;34m,\u001b[0m \u001b[0;36m5\u001b[0m\u001b[0;34m,\u001b[0m \u001b[0;36m6\u001b[0m\u001b[0;34m]\u001b[0m\u001b[0;34m,\u001b[0m \u001b[0;34m[\u001b[0m\u001b[0;36m7\u001b[0m\u001b[0;34m,\u001b[0m \u001b[0;36m8\u001b[0m\u001b[0;34m,\u001b[0m \u001b[0;36m9\u001b[0m\u001b[0;34m]\u001b[0m\u001b[0;34m)\u001b[0m\u001b[0;34m:\u001b[0m\u001b[0;34m\u001b[0m\u001b[0;34m\u001b[0m\u001b[0m\n\u001b[0m\u001b[1;32m      5\u001b[0m   \u001b[0mprint\u001b[0m\u001b[0;34m(\u001b[0m\u001b[0mx\u001b[0m\u001b[0;34m,\u001b[0m \u001b[0my\u001b[0m\u001b[0;34m,\u001b[0m \u001b[0mz\u001b[0m\u001b[0;34m)\u001b[0m\u001b[0;34m\u001b[0m\u001b[0;34m\u001b[0m\u001b[0m\n",
            "\u001b[0;31mValueError\u001b[0m: too many values to unpack (expected 2)"
          ]
        }
      ]
    },
    {
      "cell_type": "code",
      "source": [
        "class HelloWorld():\n",
        "  def __init__(self): #__init__은 자동 실행\n",
        "    print(\"init\")\n",
        "\n",
        "# 실행 결과를 확인하시오\n",
        "helloworld = HelloWorld()"
      ],
      "metadata": {
        "id": "206k5thjGP38"
      },
      "execution_count": null,
      "outputs": []
    },
    {
      "cell_type": "code",
      "source": [
        "class HelloWorld():\n",
        "  def __init__(self):\n",
        "    print(\"init\")\n",
        "\n",
        "helloworld = HelloWorld() #객체 초기화가 이루어져 init출력\n",
        "#callable(HelloWorld) #True: class 자체는 호출을 통해 객체를 생성하므로 callable\n",
        "\n",
        "# 실행 결과를 확인하시오\n",
        "callable(helloworld) #False: 생성된 객체는 __call__() 이 class 내에 정의되어 있지 않기 때문에 callable 하지 않음"
      ],
      "metadata": {
        "id": "M120-I08Gi5Z"
      },
      "execution_count": null,
      "outputs": []
    },
    {
      "cell_type": "code",
      "source": [
        "#객체를 호출 가능하게 해주는 __call__이 정의되어 있지 않아 에러가 난다.\n",
        "helloworld() # Error"
      ],
      "metadata": {
        "id": "CMaxsMmwHWo8"
      },
      "execution_count": null,
      "outputs": []
    },
    {
      "cell_type": "code",
      "source": [
        "class HelloWorld():\n",
        "  def __init__(self): #객체(인스턴스) 초기화할 때 실행\n",
        "    print(\"init\")\n",
        "\n",
        "  def __call__(self): #인스턴스가 호출되었을 때 실행\n",
        "    #객체를 함수로써 호출 가능하게 활용하기 위하여 사용하는 특수한 메소드\n",
        "    print(\"Hello world\")\n",
        "\n",
        "helloworld = HelloWorld()\n",
        "\n",
        "#개체를 호출 가능하게 해주는 __call__이 정의되어 있어 callable하다.\n",
        "# 실행 결과를 확인하시오\n",
        "helloworld()  #객체 호출"
      ],
      "metadata": {
        "id": "6lPfwt_kG9TD"
      },
      "execution_count": null,
      "outputs": []
    },
    {
      "cell_type": "code",
      "source": [
        "import numpy as np\n",
        "# rank가 1인 배열 생성\n",
        "a = np.array([1, 2, 3])\n",
        "# 각 라인 별 실행 결과를 확인하시오\n",
        "type(a) #numpy자료형 확인"
      ],
      "metadata": {
        "colab": {
          "base_uri": "https://localhost:8080/"
        },
        "id": "PQ0hFzvVrdpu",
        "outputId": "c473a53d-bd60-4fac-8a33-a89bb6b7df50"
      },
      "execution_count": null,
      "outputs": [
        {
          "output_type": "execute_result",
          "data": {
            "text/plain": [
              "numpy.ndarray"
            ]
          },
          "metadata": {},
          "execution_count": 152
        }
      ]
    },
    {
      "cell_type": "code",
      "source": [
        "a.shape #배열의 크기 (3,0)"
      ],
      "metadata": {
        "colab": {
          "base_uri": "https://localhost:8080/"
        },
        "id": "roARCTVOriMH",
        "outputId": "4ca85521-17ca-4a4b-8c4c-81d1519c33cc"
      },
      "execution_count": null,
      "outputs": [
        {
          "output_type": "execute_result",
          "data": {
            "text/plain": [
              "(3,)"
            ]
          },
          "metadata": {},
          "execution_count": 153
        }
      ]
    },
    {
      "cell_type": "code",
      "source": [
        "a.ndim  #1차원"
      ],
      "metadata": {
        "colab": {
          "base_uri": "https://localhost:8080/"
        },
        "id": "EBdhuoCGrlHZ",
        "outputId": "d227bccc-6fde-411c-f4b6-ba02951787a0"
      },
      "execution_count": null,
      "outputs": [
        {
          "output_type": "execute_result",
          "data": {
            "text/plain": [
              "1"
            ]
          },
          "metadata": {},
          "execution_count": 154
        }
      ]
    },
    {
      "cell_type": "code",
      "source": [
        "a[0], a[1], a[2]  #배열의 요소들을 튜플로 출력"
      ],
      "metadata": {
        "colab": {
          "base_uri": "https://localhost:8080/"
        },
        "id": "VpfGmYMyrmYQ",
        "outputId": "22bf34f7-e01f-464e-e80b-dae5b1d59dc8"
      },
      "execution_count": null,
      "outputs": [
        {
          "output_type": "execute_result",
          "data": {
            "text/plain": [
              "(1, 2, 3)"
            ]
          },
          "metadata": {},
          "execution_count": 155
        }
      ]
    },
    {
      "cell_type": "code",
      "source": [
        "# 요소 변경 후 실행 결과를 확인하시오.\n",
        "a[0] = 5  #배열의 0번째 요소를 5로 대체\n",
        "a"
      ],
      "metadata": {
        "colab": {
          "base_uri": "https://localhost:8080/"
        },
        "id": "9EIChSnNrsDA",
        "outputId": "e07ba1e8-e200-4ab9-d348-075bd8e87edf"
      },
      "execution_count": null,
      "outputs": [
        {
          "output_type": "execute_result",
          "data": {
            "text/plain": [
              "array([5, 2, 3])"
            ]
          },
          "metadata": {},
          "execution_count": 156
        }
      ]
    },
    {
      "cell_type": "code",
      "source": [
        "# rank가 2인 배열 생성\n",
        "b = np.array([[1,2,3],[4,5,6]])\n",
        "# 각 라인 별 실행 결과를 확인하시오\n",
        "b.shape #배열의 크기 (2,3)"
      ],
      "metadata": {
        "colab": {
          "base_uri": "https://localhost:8080/"
        },
        "id": "Gj7cFTq4rzfp",
        "outputId": "f8726533-4a18-49eb-a760-c07905ddee40"
      },
      "execution_count": null,
      "outputs": [
        {
          "output_type": "execute_result",
          "data": {
            "text/plain": [
              "(2, 3)"
            ]
          },
          "metadata": {},
          "execution_count": 157
        }
      ]
    },
    {
      "cell_type": "code",
      "source": [
        "b.ndim  #배열의 차원은 2차원"
      ],
      "metadata": {
        "colab": {
          "base_uri": "https://localhost:8080/"
        },
        "id": "PQTDPBjFr66D",
        "outputId": "8c0e41dd-6437-49c0-d527-b1b0c5d7e8b7"
      },
      "execution_count": null,
      "outputs": [
        {
          "output_type": "execute_result",
          "data": {
            "text/plain": [
              "2"
            ]
          },
          "metadata": {},
          "execution_count": 158
        }
      ]
    },
    {
      "cell_type": "code",
      "source": [
        "b[0, 0], b[0, 1], b[1, 0] #배열의 요소들을 튜플로 출력"
      ],
      "metadata": {
        "colab": {
          "base_uri": "https://localhost:8080/"
        },
        "id": "cLfSPT-Xr6wD",
        "outputId": "7836ddf8-fa72-4b1f-968c-64337dfdf910"
      },
      "execution_count": null,
      "outputs": [
        {
          "output_type": "execute_result",
          "data": {
            "text/plain": [
              "(1, 2, 4)"
            ]
          },
          "metadata": {},
          "execution_count": 159
        }
      ]
    },
    {
      "cell_type": "code",
      "source": [
        "import numpy as np\n",
        "# 모든 값이 0인 배열 생성 후 실행 결과를 확인하시오.\n",
        "a = np.zeros((2,2)) \n",
        "a # 모든 값이 0인 2x2 행렬"
      ],
      "metadata": {
        "colab": {
          "base_uri": "https://localhost:8080/"
        },
        "id": "6LsLRPN7xWW8",
        "outputId": "282f6f8f-f603-4d01-c47e-dae168ec12cf"
      },
      "execution_count": null,
      "outputs": [
        {
          "output_type": "execute_result",
          "data": {
            "text/plain": [
              "array([[0., 0.],\n",
              "       [0., 0.]])"
            ]
          },
          "metadata": {},
          "execution_count": 160
        }
      ]
    },
    {
      "cell_type": "code",
      "source": [
        "# 모든 값이 1인 배열 생성 후 실행 결과를 확인하시오.\n",
        "b = np.ones((1,2))\n",
        "b #모든 값이 1인 1x2 행렬"
      ],
      "metadata": {
        "colab": {
          "base_uri": "https://localhost:8080/"
        },
        "id": "gDmJaqDXxZkq",
        "outputId": "d6174cbc-2c79-4050-de3c-5ba0edc26ace"
      },
      "execution_count": null,
      "outputs": [
        {
          "output_type": "execute_result",
          "data": {
            "text/plain": [
              "array([[1., 1.]])"
            ]
          },
          "metadata": {},
          "execution_count": 161
        }
      ]
    },
    {
      "cell_type": "code",
      "source": [
        "# 모든 값이 특정 상수인 배열 생성 후 실행 결과를 확인하시오.\n",
        "c = np.full((2,2), 7) \n",
        "c #모든 값이 7인 2x2 행렬"
      ],
      "metadata": {
        "colab": {
          "base_uri": "https://localhost:8080/"
        },
        "id": "FnGzSoLxxbBi",
        "outputId": "908ac17a-3ea8-43c1-85b0-83d405ddf31e"
      },
      "execution_count": null,
      "outputs": [
        {
          "output_type": "execute_result",
          "data": {
            "text/plain": [
              "array([[7, 7],\n",
              "       [7, 7]])"
            ]
          },
          "metadata": {},
          "execution_count": 162
        }
      ]
    },
    {
      "cell_type": "code",
      "source": [
        "# 2x2 단위행렬 생성 후 실행 결과를 확인하시오.\n",
        "d = np.eye(2)\n",
        "d #2x2 단위행렬"
      ],
      "metadata": {
        "colab": {
          "base_uri": "https://localhost:8080/"
        },
        "id": "XmPBGG2Txek2",
        "outputId": "78cf3b33-d095-40be-8cb2-da056f369e9b"
      },
      "execution_count": null,
      "outputs": [
        {
          "output_type": "execute_result",
          "data": {
            "text/plain": [
              "array([[1., 0.],\n",
              "       [0., 1.]])"
            ]
          },
          "metadata": {},
          "execution_count": 163
        }
      ]
    },
    {
      "cell_type": "code",
      "source": [
        "# 임의의 값으로 채워진 배열 생성 후 실행 결과를 확인하시오.\n",
        "e = np.random.random((2,2))\n",
        "e #랜덤으로 값이 채워진 2x2 행렬"
      ],
      "metadata": {
        "colab": {
          "base_uri": "https://localhost:8080/"
        },
        "id": "3comq7XCxh6Y",
        "outputId": "3adc333b-64ea-4c13-944d-d85ea350f4ae"
      },
      "execution_count": null,
      "outputs": [
        {
          "output_type": "execute_result",
          "data": {
            "text/plain": [
              "array([[0.60306131, 0.79182429],\n",
              "       [0.81805637, 0.59717862]])"
            ]
          },
          "metadata": {},
          "execution_count": 164
        }
      ]
    },
    {
      "cell_type": "code",
      "source": [
        "import numpy as np\n",
        "# 0~9를 갖는 배열 생성\n",
        "a = np.arange(10)\n",
        "# 실행 결과를 확인하시오.\n",
        "np.where(a<5) #요소 중 값이 5보다 작은 요소들의 인덱스만을 갖는 배열"
      ],
      "metadata": {
        "colab": {
          "base_uri": "https://localhost:8080/"
        },
        "id": "5bsZFc9vy3nA",
        "outputId": "8a84dc7f-ea1a-459c-c983-c0c5fcf3f6ca"
      },
      "execution_count": null,
      "outputs": [
        {
          "output_type": "execute_result",
          "data": {
            "text/plain": [
              "(array([0, 1, 2, 3, 4]),)"
            ]
          },
          "metadata": {},
          "execution_count": 165
        }
      ]
    },
    {
      "cell_type": "code",
      "source": [
        "# 실행 결과를 확인하시오.\n",
        "np.where(a<5, a, 10*a)  #a가 5보다 작으면 그대로 두고, 그렇지 않으면 10을 곱한 배열"
      ],
      "metadata": {
        "colab": {
          "base_uri": "https://localhost:8080/"
        },
        "id": "2m0DvjWTy7Rb",
        "outputId": "0bdb9c4f-3f32-43e4-aadb-71a6b696fc79"
      },
      "execution_count": null,
      "outputs": [
        {
          "output_type": "execute_result",
          "data": {
            "text/plain": [
              "array([ 0,  1,  2,  3,  4, 50, 60, 70, 80, 90])"
            ]
          },
          "metadata": {},
          "execution_count": 166
        }
      ]
    },
    {
      "cell_type": "code",
      "source": [
        "# 실행 결과를 확인하시오.\n",
        "np.where(a<4, a, -1)  #a가 4보다 작으면 그대로 두고, 그렇지 않으면 -1로 대체한 배열"
      ],
      "metadata": {
        "colab": {
          "base_uri": "https://localhost:8080/"
        },
        "id": "-Hv9I1bPy9XH",
        "outputId": "b4506ec5-2b80-4f15-cb76-0cc6d8fe2f8c"
      },
      "execution_count": null,
      "outputs": [
        {
          "output_type": "execute_result",
          "data": {
            "text/plain": [
              "array([ 0,  1,  2,  3, -1, -1, -1, -1, -1, -1])"
            ]
          },
          "metadata": {},
          "execution_count": 167
        }
      ]
    },
    {
      "cell_type": "code",
      "source": [
        "import numpy as np\n",
        "\n",
        "# 3x4 배열 생성\n",
        "a = np.array([[1,2,3,4], [5,6,7,8], [9,10,11,12]])\n",
        "\n",
        "# 슬라이싱을 이용하여 첫 두 행과 1열, 2열로 이루어진 부분배열 생성\n",
        "# b는 shape가 (2,2)인 배열이 됨\n",
        "# 실행 결과를 확인하시오.\n",
        "b = a[:2, 1:3]\n",
        "b"
      ],
      "metadata": {
        "colab": {
          "base_uri": "https://localhost:8080/"
        },
        "id": "tjsaLwR22tMm",
        "outputId": "6942e723-1272-4787-87d9-31ac0b237b47"
      },
      "execution_count": null,
      "outputs": [
        {
          "output_type": "execute_result",
          "data": {
            "text/plain": [
              "array([[2, 3],\n",
              "       [6, 7]])"
            ]
          },
          "metadata": {},
          "execution_count": 176
        }
      ]
    },
    {
      "cell_type": "code",
      "source": [
        "# 슬라이싱된 배열은 원본 배열과 같은 데이터를 참조, 즉 슬라이싱 된 배열을 수정하면 원본 배열 역시 수정됨\n",
        "# 실행 결과를 확인하시오.\n",
        "a[0, 1] #a배열의 0행 1열"
      ],
      "metadata": {
        "colab": {
          "base_uri": "https://localhost:8080/"
        },
        "id": "wI1ylkMD27Rz",
        "outputId": "2765cb0d-e63e-486d-df53-4367aa4b2530"
      },
      "execution_count": null,
      "outputs": [
        {
          "output_type": "execute_result",
          "data": {
            "text/plain": [
              "2"
            ]
          },
          "metadata": {},
          "execution_count": 177
        }
      ]
    },
    {
      "cell_type": "code",
      "source": [
        "# b[0, 0]은 a[0, 1]과 같은 데이터\n",
        "b[0, 0] = 77  #b배열의 0행 0열 값을 77로 수정\n",
        "b"
      ],
      "metadata": {
        "colab": {
          "base_uri": "https://localhost:8080/"
        },
        "id": "ktdHiJyz29_t",
        "outputId": "773ff349-adeb-4198-9b5e-4c10b0796580"
      },
      "execution_count": null,
      "outputs": [
        {
          "output_type": "execute_result",
          "data": {
            "text/plain": [
              "array([[77,  3],\n",
              "       [ 6,  7]])"
            ]
          },
          "metadata": {},
          "execution_count": 178
        }
      ]
    },
    {
      "cell_type": "code",
      "source": [
        "# 실행 결과를 확인하시오.\n",
        "a[0, 1] #b배열을 수정함에 따라 a배열의 같은 위치에 해당하는 0행 1열의 값이 77로 변경"
      ],
      "metadata": {
        "colab": {
          "base_uri": "https://localhost:8080/"
        },
        "id": "Bhbr0paN3Ahb",
        "outputId": "cd560f65-9c66-468d-e504-f4991a5c3d3e"
      },
      "execution_count": null,
      "outputs": [
        {
          "output_type": "execute_result",
          "data": {
            "text/plain": [
              "77"
            ]
          },
          "metadata": {},
          "execution_count": 179
        }
      ]
    },
    {
      "cell_type": "code",
      "source": [
        "import numpy as np\n",
        "\n",
        "# 3x4 배열 생성\n",
        "a = np.array([[1,2,3,4], [5,6,7,8], [9,10,11,12]])\n",
        "\n",
        "# 3x4 배열을 2x6으로 변형\n",
        "b = np.reshape(a, (2, 6))"
      ],
      "metadata": {
        "id": "8KZh6ULu4C3T"
      },
      "execution_count": null,
      "outputs": []
    },
    {
      "cell_type": "code",
      "source": [
        "# 실행 결과를 확인하시오.\n",
        "b #2행 6열"
      ],
      "metadata": {
        "id": "CSFk4tVD5V5K"
      },
      "execution_count": null,
      "outputs": []
    },
    {
      "cell_type": "code",
      "source": [
        "# 슬라이싱된 배열과 마찬가지고 reshape된 배열도 원본 배열과 같은 데이터를 참조, \n",
        "#즉 슬라이싱 된 배열을 수정하면 원본 배열 역시 수정됨\n",
        "# 실행 결과를 확인하시오.\n",
        "a[0, 1] #0행 1열의 값"
      ],
      "metadata": {
        "id": "kN2yTbKL5g6c"
      },
      "execution_count": null,
      "outputs": []
    },
    {
      "cell_type": "code",
      "source": [
        "# b[0, 1]은 a[0, 1]과 같은 데이터\n",
        "b[0, 1] = 77\n",
        "a[0, 1] #a[0,1]도 수정된 b[0,1]"
      ],
      "metadata": {
        "colab": {
          "base_uri": "https://localhost:8080/"
        },
        "id": "Aiak5esA5scn",
        "outputId": "822451d7-0538-4a71-bccf-56eb07630234"
      },
      "execution_count": null,
      "outputs": [
        {
          "output_type": "execute_result",
          "data": {
            "text/plain": [
              "0"
            ]
          },
          "metadata": {},
          "execution_count": 186
        }
      ]
    },
    {
      "cell_type": "code",
      "source": [
        "import numpy as np\n",
        "\n",
        "# 2x2 행렬 두 개 생성\n",
        "a = np.array([[1, 0], [0, 1]])\n",
        "b = np.array([[4, 1], [2, 2]]) \n",
        "\n",
        "# 2x2 행렬 간 dot product, 실행 결과를 확인하시오.\n",
        "np.dot(a, b)  #두 행렬을 내적한 결과에 해당하는 행렬"
      ],
      "metadata": {
        "colab": {
          "base_uri": "https://localhost:8080/"
        },
        "id": "rrI6O24F7RFp",
        "outputId": "0ecbe148-b60a-4756-d7de-acefd6097a98"
      },
      "execution_count": null,
      "outputs": [
        {
          "output_type": "execute_result",
          "data": {
            "text/plain": [
              "array([[4, 1],\n",
              "       [2, 2]])"
            ]
          },
          "metadata": {},
          "execution_count": 184
        }
      ]
    },
    {
      "cell_type": "code",
      "source": [
        "import torch\n",
        "import numpy as np\n",
        "\n",
        "# Float 형을 갖는 tensor 생성\n",
        "t1 = torch.FloatTensor([0, 1, 2, 3, 4, 5, 6])\n",
        "t2 = torch.tensor(np.arange(7)) # t1과 동일\n",
        "\n",
        "# 각 라인 별 실행 결과를 확인하시오\n",
        "t1.shape  #t1의 크기"
      ],
      "metadata": {
        "colab": {
          "base_uri": "https://localhost:8080/"
        },
        "id": "EnaxXhvc8TrK",
        "outputId": "f3a41a83-d8ca-4254-dd22-c4500ce8683a"
      },
      "execution_count": null,
      "outputs": [
        {
          "output_type": "execute_result",
          "data": {
            "text/plain": [
              "torch.Size([7])"
            ]
          },
          "metadata": {},
          "execution_count": 185
        }
      ]
    },
    {
      "cell_type": "code",
      "source": [
        "t2.shape  #t2의 크기"
      ],
      "metadata": {
        "id": "IQpbKEnP8qqb"
      },
      "execution_count": null,
      "outputs": []
    },
    {
      "cell_type": "code",
      "source": [
        "t1.dim()  #t1의 차원"
      ],
      "metadata": {
        "id": "IDSxilkk8u-W"
      },
      "execution_count": null,
      "outputs": []
    },
    {
      "cell_type": "code",
      "source": [
        "t1.size() #t1의 크기"
      ],
      "metadata": {
        "id": "JGCKOefD84-2"
      },
      "execution_count": null,
      "outputs": []
    },
    {
      "cell_type": "code",
      "source": [
        "t1[:2]  #t1의 0~1번째 인덱스까지"
      ],
      "metadata": {
        "id": "eXyKkIC09Awk"
      },
      "execution_count": null,
      "outputs": []
    },
    {
      "cell_type": "code",
      "source": [
        "t1[3:]  #t1의 3~끝 인덱스까지"
      ],
      "metadata": {
        "id": "8ZUQdLzX9L1T"
      },
      "execution_count": null,
      "outputs": []
    },
    {
      "cell_type": "code",
      "source": [
        "# 각 라인 별 실행 결과를 확인하시오\n",
        "b = np.arange(7)\n",
        "t1 = torch.FloatTensor([0,1,2,3,4,5,6])\n",
        "#torch.tensor(range(7))\n",
        "#torch.FloatTensor(range(7))"
      ],
      "metadata": {
        "id": "LbYzNrRr9oHv"
      },
      "execution_count": null,
      "outputs": []
    },
    {
      "cell_type": "code",
      "source": [
        "type(b) #numpy array"
      ],
      "metadata": {
        "colab": {
          "base_uri": "https://localhost:8080/"
        },
        "id": "wNkP_SrS-RMg",
        "outputId": "d8757d88-4289-441d-ae3e-6200317a8a26"
      },
      "execution_count": null,
      "outputs": [
        {
          "output_type": "execute_result",
          "data": {
            "text/plain": [
              "numpy.ndarray"
            ]
          },
          "metadata": {},
          "execution_count": 85
        }
      ]
    },
    {
      "cell_type": "code",
      "source": [
        "type(t1)  #torch tensor"
      ],
      "metadata": {
        "colab": {
          "base_uri": "https://localhost:8080/"
        },
        "id": "Pzn4OIdX-dGI",
        "outputId": "800b03be-0819-4441-d8b8-2e516a71908a"
      },
      "execution_count": null,
      "outputs": [
        {
          "output_type": "execute_result",
          "data": {
            "text/plain": [
              "torch.Tensor"
            ]
          },
          "metadata": {},
          "execution_count": 86
        }
      ]
    },
    {
      "cell_type": "code",
      "source": [
        "# numpy의 array인 b를 torch의 tensor로 변환\n",
        "tt = torch.tensor(b)\n",
        "t_from = torch.from_numpy(b)"
      ],
      "metadata": {
        "id": "moZJPhkf-f_o"
      },
      "execution_count": null,
      "outputs": []
    },
    {
      "cell_type": "code",
      "source": [
        "type(tt)  #tt의 자료형: tensor"
      ],
      "metadata": {
        "colab": {
          "base_uri": "https://localhost:8080/"
        },
        "id": "VxTJyMMzETR7",
        "outputId": "0b8ecdea-6bba-447f-9016-8b3a86a52b3d"
      },
      "execution_count": null,
      "outputs": [
        {
          "output_type": "execute_result",
          "data": {
            "text/plain": [
              "torch.Tensor"
            ]
          },
          "metadata": {},
          "execution_count": 88
        }
      ]
    },
    {
      "cell_type": "code",
      "source": [
        "type(t_from)   #t_fron의 자료형: tensor"
      ],
      "metadata": {
        "colab": {
          "base_uri": "https://localhost:8080/"
        },
        "id": "cIBkc2sVEd4L",
        "outputId": "4ef5ef55-339a-4ef2-d63c-9dd798d5649a"
      },
      "execution_count": null,
      "outputs": [
        {
          "output_type": "execute_result",
          "data": {
            "text/plain": [
              "torch.Tensor"
            ]
          },
          "metadata": {},
          "execution_count": 89
        }
      ]
    },
    {
      "cell_type": "code",
      "source": [
        "tt"
      ],
      "metadata": {
        "colab": {
          "base_uri": "https://localhost:8080/"
        },
        "id": "hAGAzXRXEqcP",
        "outputId": "ca426c82-9a65-413e-bb0c-32d76d7fb835"
      },
      "execution_count": null,
      "outputs": [
        {
          "output_type": "execute_result",
          "data": {
            "text/plain": [
              "tensor([0, 1, 2, 3, 4, 5, 6])"
            ]
          },
          "metadata": {},
          "execution_count": 90
        }
      ]
    },
    {
      "cell_type": "code",
      "source": [
        "t_from"
      ],
      "metadata": {
        "colab": {
          "base_uri": "https://localhost:8080/"
        },
        "id": "zQMSRcuREtUy",
        "outputId": "f1721543-809e-49ab-ff6c-7ed51a52e95e"
      },
      "execution_count": null,
      "outputs": [
        {
          "output_type": "execute_result",
          "data": {
            "text/plain": [
              "tensor([0, 1, 2, 3, 4, 5, 6])"
            ]
          },
          "metadata": {},
          "execution_count": 91
        }
      ]
    },
    {
      "cell_type": "code",
      "source": [
        "b[0]= -10\n",
        "tt  #array b를 참조하지 않음"
      ],
      "metadata": {
        "colab": {
          "base_uri": "https://localhost:8080/"
        },
        "id": "yriz4PdRFGpC",
        "outputId": "815ce38f-4b9c-4bc2-933e-25a17f10bdee"
      },
      "execution_count": null,
      "outputs": [
        {
          "output_type": "execute_result",
          "data": {
            "text/plain": [
              "tensor([0, 1, 2, 3, 4, 5, 6])"
            ]
          },
          "metadata": {},
          "execution_count": 92
        }
      ]
    },
    {
      "cell_type": "code",
      "source": [
        "t_from  #array b를 참조하여 b의 요소 변화가 반영됨"
      ],
      "metadata": {
        "colab": {
          "base_uri": "https://localhost:8080/"
        },
        "id": "NDsS3ItzFPtt",
        "outputId": "1599eb3f-765e-4ac7-caa2-35be1f6a64af"
      },
      "execution_count": null,
      "outputs": [
        {
          "output_type": "execute_result",
          "data": {
            "text/plain": [
              "tensor([-10,   1,   2,   3,   4,   5,   6])"
            ]
          },
          "metadata": {},
          "execution_count": 93
        }
      ]
    },
    {
      "cell_type": "code",
      "source": [
        "# torch의 tensor를 numpy의 array로 바꿈\n",
        "t_to_np = t_from.numpy()\n",
        "type(t_to_np) #tensor를 array로 변환"
      ],
      "metadata": {
        "colab": {
          "base_uri": "https://localhost:8080/"
        },
        "id": "K_rXpY_VF1Hs",
        "outputId": "e81aa505-c943-4da9-86d8-e368993b7a98"
      },
      "execution_count": null,
      "outputs": [
        {
          "output_type": "execute_result",
          "data": {
            "text/plain": [
              "numpy.ndarray"
            ]
          },
          "metadata": {},
          "execution_count": 94
        }
      ]
    },
    {
      "cell_type": "code",
      "source": [
        "m1 = torch.FloatTensor([[3,3]])\n",
        "m2 = torch.FloatTensor([[2,2]])\n",
        "\n",
        "m1+m2 #두 tensor의 합"
      ],
      "metadata": {
        "colab": {
          "base_uri": "https://localhost:8080/"
        },
        "id": "6FAHKdhZGUzw",
        "outputId": "c7e99459-c6d4-4f35-9559-5cbf55ecd4b4"
      },
      "execution_count": null,
      "outputs": [
        {
          "output_type": "execute_result",
          "data": {
            "text/plain": [
              "tensor([[5., 5.]])"
            ]
          },
          "metadata": {},
          "execution_count": 95
        }
      ]
    },
    {
      "cell_type": "code",
      "source": [
        "# Vector + scalar\n",
        "m1 = torch.FloatTensor([[1,2]])\n",
        "m2 = torch.FloatTensor([[3]])\n",
        "\n",
        "m1 + m2 #m1 tensor의 각 열에 스칼라값 더한 tensor"
      ],
      "metadata": {
        "colab": {
          "base_uri": "https://localhost:8080/"
        },
        "id": "tjmC_B5qGsT8",
        "outputId": "80a6c607-b6bd-4957-ce36-e6b4d7d4e122"
      },
      "execution_count": null,
      "outputs": [
        {
          "output_type": "execute_result",
          "data": {
            "text/plain": [
              "tensor([[4., 5.]])"
            ]
          },
          "metadata": {},
          "execution_count": 100
        }
      ]
    },
    {
      "cell_type": "code",
      "source": [
        "# 2 x 1 Vector + 1 x 2 Vector\n",
        "m1 = torch.FloatTensor([[1,2]])\n",
        "m2 = torch.FloatTensor([[3],[4]])\n",
        "\n",
        "m1 + m2 #m1이 broadcasting을 통해 m2의 크기와 동일한 크기로 맞춰진 뒤, 행렬의 덧셈이 행해짐"
      ],
      "metadata": {
        "colab": {
          "base_uri": "https://localhost:8080/"
        },
        "id": "wG2Nfi3_SFL_",
        "outputId": "61ee36e1-e75c-4119-f109-184932076a17"
      },
      "execution_count": null,
      "outputs": [
        {
          "output_type": "execute_result",
          "data": {
            "text/plain": [
              "tensor([[4., 5.],\n",
              "        [5., 6.]])"
            ]
          },
          "metadata": {},
          "execution_count": 102
        }
      ]
    },
    {
      "cell_type": "code",
      "source": [
        "m1 = torch.FloatTensor([[1,2],[3,4]])\n",
        "m2 = torch.FloatTensor([[1],[2]])\n",
        "\n",
        "m1 * m2 #동일한 크기의 행렬에 대하여 동일한 위치에 있는 원소끼리 곱하는 element-wise 곱셈\n",
        "#m2의 broadcasting이 이루어진 후에 element-wise 곱셈"
      ],
      "metadata": {
        "colab": {
          "base_uri": "https://localhost:8080/"
        },
        "id": "NC0SUClxlvj_",
        "outputId": "ab895054-3bf6-4499-90eb-7aada221296c"
      },
      "execution_count": null,
      "outputs": [
        {
          "output_type": "execute_result",
          "data": {
            "text/plain": [
              "tensor([[1., 2.],\n",
              "        [6., 8.]])"
            ]
          },
          "metadata": {},
          "execution_count": 110
        }
      ]
    },
    {
      "cell_type": "code",
      "source": [
        "m1.mul(m2) #동일한 크기의 행렬에 대하여 동일한 위치에 있는 원소끼리 곱하는 element-wise 곱셈\n",
        "#m2의 broadcasting이 이루어진 후에 element-wise 곱셈"
      ],
      "metadata": {
        "colab": {
          "base_uri": "https://localhost:8080/"
        },
        "id": "Pc21URq2pMb9",
        "outputId": "01f181cf-7bfc-404e-a2c9-d86208ea5052"
      },
      "execution_count": null,
      "outputs": [
        {
          "output_type": "execute_result",
          "data": {
            "text/plain": [
              "tensor([[1., 2.],\n",
              "        [6., 8.]])"
            ]
          },
          "metadata": {},
          "execution_count": 111
        }
      ]
    },
    {
      "cell_type": "code",
      "source": [
        "m1 = torch.FloatTensor([[1,2],[3,4]])\n",
        "m2 = torch.FloatTensor([[1],[2]])\n",
        "\n",
        "m1.matmul(m2) #Matrix Multiplication, 즉 행렬곱셈"
      ],
      "metadata": {
        "colab": {
          "base_uri": "https://localhost:8080/"
        },
        "id": "rTiN_uZTF1oV",
        "outputId": "b42ab1c7-753e-43f4-f6df-b11d9ce98561"
      },
      "execution_count": null,
      "outputs": [
        {
          "output_type": "execute_result",
          "data": {
            "text/plain": [
              "tensor([[ 5.],\n",
              "        [11.]])"
            ]
          },
          "metadata": {},
          "execution_count": 115
        }
      ]
    },
    {
      "cell_type": "code",
      "source": [
        "t = np.arange(12).reshape(-1,2,3) #0~11의 정수를 원소로 갖는 1차원 배열을 3차원 배열로 변경(tensor 크기 변경)\n",
        "#(?,2,3)의 크기로 텐서의 크기를 변경\n",
        "floatT = torch.FloatTensor(t) #array를 tensor로 변환\n",
        "\n",
        "floatT.shape  #floatT의 크기 보기"
      ],
      "metadata": {
        "colab": {
          "base_uri": "https://localhost:8080/"
        },
        "id": "CklxTAjDGkBF",
        "outputId": "99d3dfb4-7233-4bbd-a40d-ed90d59642c7"
      },
      "execution_count": null,
      "outputs": [
        {
          "output_type": "execute_result",
          "data": {
            "text/plain": [
              "torch.Size([2, 2, 3])"
            ]
          },
          "metadata": {},
          "execution_count": 129
        }
      ]
    },
    {
      "cell_type": "code",
      "source": [
        "floatT.view([-1,3]) #floatT tensor의 크기를 (-1,3)으로 변경"
      ],
      "metadata": {
        "colab": {
          "base_uri": "https://localhost:8080/"
        },
        "id": "54ZLseyEOInR",
        "outputId": "36ce10c4-8aca-4558-a300-f6ebb14e5bad"
      },
      "execution_count": null,
      "outputs": [
        {
          "output_type": "execute_result",
          "data": {
            "text/plain": [
              "tensor([[ 0.,  1.,  2.],\n",
              "        [ 3.,  4.,  5.],\n",
              "        [ 6.,  7.,  8.],\n",
              "        [ 9., 10., 11.]])"
            ]
          },
          "metadata": {},
          "execution_count": 130
        }
      ]
    },
    {
      "cell_type": "code",
      "source": [
        "ft= torch.FloatTensor([0,1,2])\n",
        "a = ft.unsqueeze(1) #두번째 차원에 1인 차원 추가. 두번째 차원 인덱스가 1이라 1넣은 거임.\n",
        "a"
      ],
      "metadata": {
        "colab": {
          "base_uri": "https://localhost:8080/"
        },
        "id": "w4mVr7_aLl0A",
        "outputId": "fef8a89a-c67e-464b-9b22-4dc6988dfeac"
      },
      "execution_count": null,
      "outputs": [
        {
          "output_type": "execute_result",
          "data": {
            "text/plain": [
              "tensor([[0.],\n",
              "        [1.],\n",
              "        [2.]])"
            ]
          },
          "metadata": {},
          "execution_count": 126
        }
      ]
    },
    {
      "cell_type": "code",
      "source": [
        "a.shape"
      ],
      "metadata": {
        "colab": {
          "base_uri": "https://localhost:8080/"
        },
        "id": "NmGb7v6NNHIC",
        "outputId": "06c62c52-0155-42c1-d1bb-b6e5ddc3a72f"
      },
      "execution_count": null,
      "outputs": [
        {
          "output_type": "execute_result",
          "data": {
            "text/plain": [
              "torch.Size([3, 1])"
            ]
          },
          "metadata": {},
          "execution_count": 127
        }
      ]
    },
    {
      "cell_type": "markdown",
      "source": [
        "##PART2"
      ],
      "metadata": {
        "id": "n5xRwa759d5W"
      }
    },
    {
      "cell_type": "code",
      "source": [
        "# 2-1. numpy를 활용하여 10부터 49까지를 값으로 갖는 배열을 생성하시오 (ex. 10, 11, ... 49)\n",
        "import numpy as np\n",
        "\n",
        "np.arange(10,50)"
      ],
      "metadata": {
        "colab": {
          "base_uri": "https://localhost:8080/"
        },
        "id": "W4_6LWJdQpZm",
        "outputId": "a3c89566-2b0b-455f-a908-302f3cd72853"
      },
      "execution_count": null,
      "outputs": [
        {
          "output_type": "execute_result",
          "data": {
            "text/plain": [
              "array([10, 11, 12, 13, 14, 15, 16, 17, 18, 19, 20, 21, 22, 23, 24, 25, 26,\n",
              "       27, 28, 29, 30, 31, 32, 33, 34, 35, 36, 37, 38, 39, 40, 41, 42, 43,\n",
              "       44, 45, 46, 47, 48, 49])"
            ]
          },
          "metadata": {},
          "execution_count": 147
        }
      ]
    },
    {
      "cell_type": "code",
      "source": [
        "# 2-2. numpy를 활용하여 49부터 10까지를 값으로 갖는 배열을 생성하시오 (ex. 49, 48, ... 10)\n",
        "import numpy as np\n",
        "\n",
        "np.arange(49,9,-1)"
      ],
      "metadata": {
        "colab": {
          "base_uri": "https://localhost:8080/"
        },
        "id": "WToqaa8VQ6w2",
        "outputId": "f4f09ece-5dda-42c1-cfb8-25a8a628180c"
      },
      "execution_count": null,
      "outputs": [
        {
          "output_type": "execute_result",
          "data": {
            "text/plain": [
              "array([49, 48, 47, 46, 45, 44, 43, 42, 41, 40, 39, 38, 37, 36, 35, 34, 33,\n",
              "       32, 31, 30, 29, 28, 27, 26, 25, 24, 23, 22, 21, 20, 19, 18, 17, 16,\n",
              "       15, 14, 13, 12, 11, 10])"
            ]
          },
          "metadata": {},
          "execution_count": 148
        }
      ]
    },
    {
      "cell_type": "code",
      "source": [
        "# 2-3. 아래 예제와 같이 [입력]이 주어졌을 때, 'A'와 'B'의 요소가 같은 위치(index)를 갖는 배열을 구하시오 (Hint: np.where)\n",
        "import numpy as np\n",
        "A = np.array([1,2,3,2,3,4,3,4,5,6])\n",
        "B = np.array([7,2,10,2,7,4,9,4,9,8])\n",
        "\n",
        "np.where(A==B)[0]"
      ],
      "metadata": {
        "colab": {
          "base_uri": "https://localhost:8080/"
        },
        "id": "jIO3fsepRgtb",
        "outputId": "45e85017-2934-4033-84a2-ecfd8faaf193"
      },
      "execution_count": null,
      "outputs": [
        {
          "output_type": "execute_result",
          "data": {
            "text/plain": [
              "array([1, 3, 5, 7])"
            ]
          },
          "metadata": {},
          "execution_count": 149
        }
      ]
    },
    {
      "cell_type": "code",
      "source": [
        "# 2-4. 아래 예제와 같이 [입력]이 주어졌을 때, Broadcasting 성질을 활용하여 행렬 'a'에 1을 더한 결과를 구하시오\n",
        "import numpy as np\n",
        "a = np.arange(9).reshape(3, 3)\n",
        "\n",
        "print(a + 1)"
      ],
      "metadata": {
        "colab": {
          "base_uri": "https://localhost:8080/"
        },
        "id": "KozueFBMZD6_",
        "outputId": "0a5f4cfe-6afc-4982-cfe1-5784acbed6d1"
      },
      "execution_count": null,
      "outputs": [
        {
          "output_type": "stream",
          "name": "stdout",
          "text": [
            "[[1 2 3]\n",
            " [4 5 6]\n",
            " [7 8 9]]\n"
          ]
        }
      ]
    },
    {
      "cell_type": "code",
      "source": [
        "# 2-5. 아래 예제와 같이 [입력]이 주어졌을 때 [출력]이 나오도록, 1열과 2열을 바꾸는 코드를 작성하시오\n",
        "import numpy as np\n",
        "\n",
        "a = np.arange(9).reshape(3, 3)\n",
        "print(a[[1,0,2]])"
      ],
      "metadata": {
        "colab": {
          "base_uri": "https://localhost:8080/"
        },
        "id": "M-STQEcxZbpl",
        "outputId": "eb523308-014a-4076-8b87-a71b4fb2f34e"
      },
      "execution_count": null,
      "outputs": [
        {
          "output_type": "stream",
          "name": "stdout",
          "text": [
            "[[3 4 5]\n",
            " [0 1 2]\n",
            " [6 7 8]]\n"
          ]
        }
      ]
    },
    {
      "cell_type": "code",
      "source": [
        "# 2-6. 아래와 같은 결과가 나오기 위한 변수 'a'를 선언하시오\n",
        "import numpy as np\n",
        "\n",
        "a = np.arange(24).reshape(-1,3,4) #Problem\n",
        "\n",
        "print(\"Shape: \", a.shape)\n",
        "print(\"Value: \", a)"
      ],
      "metadata": {
        "colab": {
          "base_uri": "https://localhost:8080/"
        },
        "id": "ghebt9Wvp9Xn",
        "outputId": "dd252a62-c64d-4fed-e9fb-6a5234d52a63"
      },
      "execution_count": null,
      "outputs": [
        {
          "output_type": "stream",
          "name": "stdout",
          "text": [
            "Shape:  (2, 3, 4)\n",
            "Value:  [[[ 0  1  2  3]\n",
            "  [ 4  5  6  7]\n",
            "  [ 8  9 10 11]]\n",
            "\n",
            " [[12 13 14 15]\n",
            "  [16 17 18 19]\n",
            "  [20 21 22 23]]]\n"
          ]
        }
      ]
    },
    {
      "cell_type": "code",
      "source": [
        "# 2-7. 문제2-6에서 선언한 변수 'a'를 활용하여 다음과 같은 결과를 만드는 slice 부분을 작성하시오.\n",
        "print(a[0,1:,2:]) #Problem"
      ],
      "metadata": {
        "colab": {
          "base_uri": "https://localhost:8080/"
        },
        "id": "bq1vyFKpqwkJ",
        "outputId": "96d55f91-464b-42fe-d3c8-44c28ab59ece"
      },
      "execution_count": null,
      "outputs": [
        {
          "output_type": "stream",
          "name": "stdout",
          "text": [
            "[[ 6  7]\n",
            " [10 11]]\n"
          ]
        }
      ]
    },
    {
      "cell_type": "code",
      "source": [
        "# 2-8. 아래와 같은 Output을 출력하도록 torch의 view 함수를 작성하시오.\n",
        "import torch\n",
        "import numpy as np\n",
        "\n",
        "t = np.arange(24)\n",
        "print(t.shape)\n",
        "\n",
        "floatT = torch.FloatTensor(t)\n",
        "print(floatT.view([4,-1])[2:,(1,4)])"
      ],
      "metadata": {
        "colab": {
          "base_uri": "https://localhost:8080/"
        },
        "id": "NJuzTZRCtXbf",
        "outputId": "18745624-9fe5-4924-f5d4-7da9e55e6b1e"
      },
      "execution_count": null,
      "outputs": [
        {
          "output_type": "stream",
          "name": "stdout",
          "text": [
            "(24,)\n",
            "tensor([[13., 16.],\n",
            "        [19., 22.]])\n"
          ]
        }
      ]
    }
  ]
}