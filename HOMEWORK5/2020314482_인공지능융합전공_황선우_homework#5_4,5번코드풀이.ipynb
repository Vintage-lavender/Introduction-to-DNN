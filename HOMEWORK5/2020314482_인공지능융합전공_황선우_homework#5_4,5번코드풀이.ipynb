{
  "nbformat": 4,
  "nbformat_minor": 0,
  "metadata": {
    "colab": {
      "name": "2020314482_인공지능융합전공_황선우_homework#5_4,5번코드풀이.ipynb",
      "provenance": [],
      "collapsed_sections": []
    },
    "kernelspec": {
      "name": "python3",
      "display_name": "Python 3"
    },
    "language_info": {
      "name": "python"
    }
  },
  "cells": [
    {
      "cell_type": "code",
      "execution_count": null,
      "metadata": {
        "colab": {
          "base_uri": "https://localhost:8080/"
        },
        "id": "09o6gZrV4dzb",
        "outputId": "9a2827d4-88f0-40ff-9da8-a4f2877db982"
      },
      "outputs": [
        {
          "output_type": "execute_result",
          "data": {
            "text/plain": [
              "[[1.0, 5.148200222412013e-131, 1.9151695967140057e-174],\n",
              " [0.9362395518765058, 0.04661262257797389, 0.01714782554552039],\n",
              " [0.41474187266806956, 0.3072483361521629, 0.27800979117976765]]"
            ]
          },
          "metadata": {},
          "execution_count": 1
        }
      ],
      "source": [
        "# 4. 아래와 같이 softmax 함수를 변경하였다. 아래 표를 채우시오.\n",
        "\n",
        "import numpy as np\n",
        "output = [[] for _ in range(3)]\n",
        "for s,t in enumerate([0.01,1,10]):\n",
        "  for i in [6,3,2]:\n",
        "    b = np.exp(i/t)/(np.exp(6/t)+np.exp(3/t)+np.exp(2/t))\n",
        "    output[s].append(b)\n",
        "output"
      ]
    },
    {
      "cell_type": "code",
      "source": [
        "# 5. 계산 과정을 설명하고 빈 칸을 채우시오.\n",
        "\n",
        "import numpy as np\n",
        "\n",
        "def sigmoid(x):\n",
        "  return 1/(1+np.exp(-x))\n",
        "\n",
        "def softmax(x):\n",
        "  x = np.exp(x)\n",
        "  return x/np.array([x.sum(axis=1)]).T #바로 x.sum(axis=1)으로 나누면 broadcasting이 행 방향으로 이루어지므로 1차원 배열을 전치하는 과정이 필요함"
      ],
      "metadata": {
        "id": "nFbVO_bC78Mq"
      },
      "execution_count": null,
      "outputs": []
    },
    {
      "cell_type": "code",
      "source": [
        "X = np.array([[1,0,1],[0,1,1],[1,1,1]])\n",
        "W = np.array([[0.1,0.2],[0.4,0.6],[0.5,0.4]])\n",
        "V = np.array([[0.4,0.3,0.5],[0.4,0.7,0.1],[0.5,0.9,0.1]])"
      ],
      "metadata": {
        "id": "5ixmqepC6_n4"
      },
      "execution_count": null,
      "outputs": []
    },
    {
      "cell_type": "code",
      "source": [
        "NET = X @ W\n",
        "net1 = NET[:,0]\n",
        "net2 = NET[:,1]\n",
        "print(\"net1:\",net1,\"\\nnet2:\",net2)"
      ],
      "metadata": {
        "colab": {
          "base_uri": "https://localhost:8080/"
        },
        "id": "CkgRtVkN6aOe",
        "outputId": "a9b9cc3f-72e8-4309-c74b-970bfd73474d"
      },
      "execution_count": null,
      "outputs": [
        {
          "output_type": "stream",
          "name": "stdout",
          "text": [
            "net1: [0.6 0.9 1. ] \n",
            "net2: [0.6 1.  1.2]\n"
          ]
        }
      ]
    },
    {
      "cell_type": "code",
      "source": [
        "H = sigmoid(NET)\n",
        "h1 = H[:,0]\n",
        "h2 = H[:,1]\n",
        "print(\"h1:\",h1,\"\\nh2:\",h2)"
      ],
      "metadata": {
        "colab": {
          "base_uri": "https://localhost:8080/"
        },
        "id": "NMU8SocXGWfI",
        "outputId": "a5a99a27-9bb1-46a5-c182-e29f5c0f5d7c"
      },
      "execution_count": null,
      "outputs": [
        {
          "output_type": "stream",
          "name": "stdout",
          "text": [
            "h1: [0.64565631 0.7109495  0.73105858] \n",
            "h2: [0.64565631 0.73105858 0.76852478]\n"
          ]
        }
      ]
    },
    {
      "cell_type": "code",
      "source": [
        "H = np.c_[H,[1,1,1]] #bias\n",
        "H"
      ],
      "metadata": {
        "colab": {
          "base_uri": "https://localhost:8080/"
        },
        "id": "QgQ8P0OZH2XH",
        "outputId": "a0891f18-4fcd-4c00-8ef0-d4f9dcd8d101"
      },
      "execution_count": null,
      "outputs": [
        {
          "output_type": "execute_result",
          "data": {
            "text/plain": [
              "array([[0.64565631, 0.64565631, 1.        ],\n",
              "       [0.7109495 , 0.73105858, 1.        ],\n",
              "       [0.73105858, 0.76852478, 1.        ]])"
            ]
          },
          "metadata": {},
          "execution_count": 29
        }
      ]
    },
    {
      "cell_type": "code",
      "source": [
        "sum = H @ V\n",
        "y = softmax(sum)\n",
        "y"
      ],
      "metadata": {
        "colab": {
          "base_uri": "https://localhost:8080/"
        },
        "outputId": "967aace5-319c-44d2-f13b-425186ad4987",
        "id": "XxSfGT-uLMcC"
      },
      "execution_count": null,
      "outputs": [
        {
          "output_type": "execute_result",
          "data": {
            "text/plain": [
              "array([[0.30426825, 0.51648229, 0.17924946],\n",
              "       [0.30228364, 0.52300362, 0.17471274],\n",
              "       [0.30130616, 0.52614586, 0.17254798]])"
            ]
          },
          "metadata": {},
          "execution_count": 32
        }
      ]
    }
  ]
}