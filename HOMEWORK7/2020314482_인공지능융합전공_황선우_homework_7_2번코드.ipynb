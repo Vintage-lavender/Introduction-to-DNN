{
  "nbformat": 4,
  "nbformat_minor": 0,
  "metadata": {
    "colab": {
      "name": "2020314482_인공지능융합전공_황선우_homework#6_2번코드.ipynb",
      "provenance": []
    },
    "kernelspec": {
      "name": "python3",
      "display_name": "Python 3"
    },
    "language_info": {
      "name": "python"
    }
  },
  "cells": [
    {
      "cell_type": "markdown",
      "source": [
        "2. 아래의 Neural Network와 5개의 학습데이터를 가진 minibatch가 있다. 각 학습데이터가 주어졌을 때, 빨간색 노드의 net 값이 아래와 같다. Batch Normalization을 적용했을 때, 아래 표의 빈칸을 채우시오"
      ],
      "metadata": {
        "id": "eX1Soif2OpgN"
      }
    },
    {
      "cell_type": "code",
      "execution_count": null,
      "metadata": {
        "id": "TkcfoGw90nIl",
        "colab": {
          "base_uri": "https://localhost:8080/"
        },
        "outputId": "0e473562-375b-4c95-a985-6bf0c5d3c0f2"
      },
      "outputs": [
        {
          "output_type": "execute_result",
          "data": {
            "text/plain": [
              "(tensor(2.2000), tensor([2.1354]))"
            ]
          },
          "metadata": {},
          "execution_count": 6
        }
      ],
      "source": [
        "#2번문제\n",
        "import torch\n",
        "import numpy as np\n",
        "import torch.nn as nn\n",
        "\n",
        "data = torch.FloatTensor([-1,2,5,4,1])\n",
        "\n",
        "#표준편차, 평균 계산\n",
        "m = torch.mean(data)\n",
        "#s = torch.std(data)\n",
        "import math\n",
        "s = math.sqrt(((-1-2.2)**2 + (2-2.2)**2 + (5-2.2)**2 + (4-2.2)**2 + (1-2.2)**2)/5)\n",
        "s = torch.FloatTensor([s])\n",
        "m,s"
      ]
    },
    {
      "cell_type": "code",
      "source": [
        "sigmoid = torch.nn.Sigmoid()\n",
        "relu = torch.nn.ReLU()\n",
        "\n",
        "net1 = (data-m)/s\n",
        "print(\"^net:\",net1)\n",
        "net2 = net1 + 1\n",
        "print(\"~net:\",net2)\n",
        "s_y = sigmoid(net2)\n",
        "r_y = relu(net2)\n",
        "print(\"activation function\\nsigmoid:\",s_y,\"\\nReLU:\",r_y)"
      ],
      "metadata": {
        "colab": {
          "base_uri": "https://localhost:8080/"
        },
        "id": "vTDqSGli7ZU6",
        "outputId": "a0b73c44-43e7-4832-ae66-7a5fa1e1a61c"
      },
      "execution_count": null,
      "outputs": [
        {
          "output_type": "stream",
          "name": "stdout",
          "text": [
            "^net: tensor([-1.4985, -0.0937,  1.3112,  0.8429, -0.5620])\n",
            "~net: tensor([-0.4985,  0.9063,  2.3112,  1.8429,  0.4380])\n",
            "activation function\n",
            "sigmoid: tensor([0.3779, 0.7123, 0.9098, 0.8633, 0.6078]) \n",
            "ReLU: tensor([0.0000, 0.9063, 2.3112, 1.8429, 0.4380])\n"
          ]
        }
      ]
    }
  ]
}